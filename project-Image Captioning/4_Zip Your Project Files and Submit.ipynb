{
 "cells": [
  {
   "cell_type": "markdown",
   "metadata": {},
   "source": [
    "## Project Submission\n",
    "\n",
    "When you are ready to submit your project, meaning you have checked the [rubric](https://review.udacity.com/#!/rubrics/1427/view) and made sure that you have completed all tasks and answered all questions. Then you are ready to compress your files and submit your solution!\n",
    "\n",
    "The following steps assume:\n",
    "1. All cells have been *run* in Notebooks 2 and 3 (and that progress has been saved).\n",
    "2. All questions in those notebooks have been answered.\n",
    "3. Your architecture in `model.py` is your best tested architecture.\n",
    "\n",
    "Please make sure all your work is saved before moving on. You do not need to change any code in these cells; this code is to help you submit your project, only.\n",
    "\n",
    "---\n",
    "\n",
    "The first thing we'll do, is convert your notebooks into `.html` files; these files will save the output of each cell and any code/text that you have modified and saved in those notebooks. Note that the first notebooks are not included because their contents will not affect your project review."
   ]
  },
  {
   "cell_type": "code",
   "execution_count": 1,
   "metadata": {},
   "outputs": [
    {
     "name": "stdout",
     "output_type": "stream",
     "text": [
      "[NbConvertApp] Converting notebook 2_Training.ipynb to html\n",
      "[NbConvertApp] Writing 1277261 bytes to 2_Training.html\n",
      "[NbConvertApp] Converting notebook 3_Inference.ipynb to html\n",
      "[NbConvertApp] Writing 1584715 bytes to 3_Inference.html\n"
     ]
    }
   ],
   "source": [
    "!jupyter nbconvert \"2_Training.ipynb\"\n",
    "!jupyter nbconvert \"3_Inference.ipynb\""
   ]
  },
  {
   "cell_type": "markdown",
   "metadata": {},
   "source": [
    "### Zip the project files\n",
    "\n",
    "Next, we'll zip all these notebook files and your `model.py` file into one compressed archive named `project2.zip`.\n",
    "\n",
    "After completing this step you should see this zip file appear in your home directory, where you can download it as seen in the image below, by selecting it from the list and clicking **Download**. This step may take a minute or two to complete.\n",
    "\n",
    "<img src='images/download_ex.png' width=50% height=50%/>\n"
   ]
  },
  {
   "cell_type": "code",
   "execution_count": null,
   "metadata": {},
   "outputs": [
    {
     "name": "stdout",
     "output_type": "stream",
     "text": [
      "updating: 2_Training.html (deflated 88%)\n",
      "updating: 3_Inference.html (deflated 35%)\n",
      "updating: model.py (deflated 65%)\n",
      "  adding: training_log.txt (deflated 84%)\n",
      "  adding: vocab.pkl (deflated 51%)\n",
      "  adding: 0_Dataset-zh.ipynb (deflated 56%)\n",
      "  adding: 1_Preliminaries.ipynb (deflated 76%)\n",
      "  adding: .ipynb_checkpoints/ (stored 0%)\n",
      "  adding: .ipynb_checkpoints/3_Inference-checkpoint.ipynb (deflated 25%)\n",
      "  adding: .ipynb_checkpoints/3_Inference-zh-checkpoint.ipynb (deflated 70%)\n",
      "  adding: .ipynb_checkpoints/4_Zip Your Project Files and Submit-zh-checkpoint.ipynb (deflated 49%)\n",
      "  adding: .ipynb_checkpoints/0_Dataset-checkpoint.ipynb (deflated 25%)\n",
      "  adding: .ipynb_checkpoints/2_Training-checkpoint.ipynb (deflated 90%)\n",
      "  adding: .ipynb_checkpoints/1_Preliminaries-zh-checkpoint.ipynb (deflated 71%)\n",
      "  adding: .ipynb_checkpoints/1_Preliminaries-checkpoint.ipynb (deflated 75%)\n",
      "  adding: .ipynb_checkpoints/0_Dataset-zh-checkpoint.ipynb (deflated 56%)\n",
      "  adding: .ipynb_checkpoints/4_Zip Your Project Files and Submit-checkpoint.ipynb (deflated 63%)\n",
      "  adding: .ipynb_checkpoints/2_Training-zh-checkpoint.ipynb (deflated 63%)\n",
      "  adding: 2_Training-zh.ipynb (deflated 63%)\n",
      "  adding: images/ (stored 0%)\n",
      "  adding: images/decoder.png (deflated 32%)\n",
      "  adding: images/encoder-decoder.png (deflated 18%)\n",
      "  adding: images/coco-examples.jpg (deflated 21%)\n",
      "  adding: images/encoder.png (deflated 7%)\n",
      "  adding: images/download_ex.png (deflated 13%)\n",
      "  adding: filelist.txt (stored 0%)\n",
      "  adding: vocabulary.py (deflated 69%)\n",
      "  adding: 0_Dataset.ipynb (deflated 25%)\n",
      "  adding: 4_Zip Your Project Files and Submit-zh.ipynb (deflated 49%)\n",
      "  adding: __pycache__/ (stored 0%)\n",
      "  adding: __pycache__/data_loader.cpython-36.pyc (deflated 50%)\n",
      "  adding: __pycache__/vocabulary.cpython-36.pyc (deflated 51%)\n",
      "  adding: __pycache__/model.cpython-36.pyc (deflated 43%)\n",
      "  adding: 2_Training.ipynb (deflated 90%)\n",
      "  adding: data_loader.py (deflated 72%)\n",
      "  adding: 3_Inference.ipynb (deflated 25%)\n",
      "  adding: 3_Inference-zh.ipynb (deflated 70%)\n",
      "  adding: models/ (stored 0%)\n",
      "  adding: models/encoder-1.pkl"
     ]
    }
   ],
   "source": [
    "!!apt-get -y update && apt-get install -y zip\n",
    "!zip project2.zip -r . -i@filelist.txt"
   ]
  },
  {
   "cell_type": "markdown",
   "metadata": {},
   "source": [
    "### Submit Your Project\n",
    "\n",
    "After creating and downloading your zip file, click on the `Submit` button and follow the instructions for submitting your `project2.zip` file. Congratulations on completing this project and I hope you enjoyed it!"
   ]
  },
  {
   "cell_type": "code",
   "execution_count": null,
   "metadata": {},
   "outputs": [],
   "source": []
  }
 ],
 "metadata": {
  "kernelspec": {
   "display_name": "Python 3",
   "language": "python",
   "name": "python3"
  },
  "language_info": {
   "codemirror_mode": {
    "name": "ipython",
    "version": 3
   },
   "file_extension": ".py",
   "mimetype": "text/x-python",
   "name": "python",
   "nbconvert_exporter": "python",
   "pygments_lexer": "ipython3",
   "version": "3.6.3"
  }
 },
 "nbformat": 4,
 "nbformat_minor": 2
}
